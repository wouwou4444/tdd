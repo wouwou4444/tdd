{
 "cells": [
  {
   "cell_type": "code",
   "execution_count": 1,
   "metadata": {},
   "outputs": [],
   "source": [
    "import math\n"
   ]
  },
  {
   "cell_type": "code",
   "execution_count": 2,
   "metadata": {},
   "outputs": [],
   "source": [
    "def test_sqrt():\n",
    "    num = 25\n",
    "    assert math.sqrt(num) == 5\n",
    "    \n",
    "def testsquare():\n",
    "    num = 7\n",
    "    assert 7 * 7 == 40\n",
    "    \n",
    "def tesequality():\n",
    "    assert 10 == 11"
   ]
  },
  {
   "cell_type": "code",
   "execution_count": 3,
   "metadata": {},
   "outputs": [],
   "source": [
    "import pytest"
   ]
  },
  {
   "cell_type": "code",
   "execution_count": 8,
   "metadata": {},
   "outputs": [
    {
     "name": "stdout",
     "output_type": "stream",
     "text": [
      "============================= test session starts =============================\n",
      "platform win32 -- Python 3.7.4, pytest-5.2.1, py-1.8.0, pluggy-0.13.0 -- d:\\Programs\\Anaconda3\\python.exe\n",
      "cachedir: .pytest_cache\n",
      "rootdir: D:\\Users\\valer_r0iadai\\OneDrive\\projects\\tdd, inifile: pytest.ini\n",
      "plugins: arraydiff-0.3, doctestplus-0.4.0, openfiles-0.4.0, remotedata-0.3.2\n",
      "collecting ... collected 17 items\n",
      "\n",
      "test_compare.py::test_greater XFAIL                                      [  5%]\n",
      "test_compare.py::test_greater_equal XPASS                                [ 11%]\n",
      "test_compare.py::test_less SKIPPED                                       [ 17%]\n",
      "test_div_by_13.py::test_divisible_by_13 PASSED                           [ 23%]\n",
      "test_div_by_3_6.py::test_divisible_by_3 PASSED                           [ 29%]\n",
      "test_div_by_3_6.py::test_divisible_by_6 FAILED                           [ 35%]\n",
      "test_div_by_3_6.py::test_div_rais_exception PASSED                       [ 41%]\n",
      "test_multiplication.py::test_multiplication_11[1-11] PASSED              [ 47%]\n",
      "test_multiplication.py::test_multiplication_11[2-22] PASSED              [ 52%]\n",
      "test_multiplication.py::test_multiplication_11[3-35] FAILED              [ 58%]\n",
      "test_multiplication.py::test_multiplication_11[4-44] PASSED              [ 64%]\n",
      "test_mycode.py::TestMyClass::test_custom_func_x PASSED                   [ 70%]\n",
      "test_mycode.py::TestMyClass::test_custom_non_lin_num_list PASSED         [ 76%]\n",
      "test_mycode.py::TestMyClass::test_hello PASSED                           [ 82%]\n",
      "test_mycode.py::TestMyClass::test_num_list PASSED                        [ 88%]\n",
      "test_tuto_01.py::test_sqrt PASSED                                        [ 94%]\n",
      "test_tuto_01.py::testsquare FAILED                                       [100%]\n",
      "\n",
      "================================== FAILURES ===================================\n",
      "_____________________________ test_divisible_by_6 _____________________________\n",
      "\n",
      "input_value = 39\n",
      "\n",
      "    def test_divisible_by_6(input_value):\n",
      ">       assert input_value % 6 == 0\n",
      "E       assert 3 == 0\n",
      "E         -3\n",
      "E         +0\n",
      "\n",
      "test_div_by_3_6.py:7: AssertionError\n",
      "________________________ test_multiplication_11[3-35] _________________________\n",
      "\n",
      "num = 3, output = 35\n",
      "\n",
      "    @pytest.mark.parametrize(\"num, output\", [(1, 11), (2, 22), (3, 35), (4,44)])\n",
      "    def test_multiplication_11(num, output):\n",
      ">       assert num * 11 == output\n",
      "E       assert 33 == 35\n",
      "E         -33\n",
      "E         +35\n",
      "\n",
      "test_multiplication.py:5: AssertionError\n",
      "_________________________________ testsquare __________________________________\n",
      "\n",
      "    def testsquare():\n",
      "        num = 7\n",
      ">       assert num * num == 40\n",
      "E       assert 49 == 40\n",
      "E         -49\n",
      "E         +40\n",
      "\n",
      "test_tuto_01.py:9: AssertionError\n",
      "=================================== PASSES ====================================\n",
      "=========================== short test summary info ===========================\n",
      "PASSED test_div_by_13.py::test_divisible_by_13\n",
      "PASSED test_div_by_3_6.py::test_divisible_by_3\n",
      "PASSED test_div_by_3_6.py::test_div_rais_exception\n",
      "PASSED test_multiplication.py::test_multiplication_11[1-11]\n",
      "PASSED test_multiplication.py::test_multiplication_11[2-22]\n",
      "PASSED test_multiplication.py::test_multiplication_11[4-44]\n",
      "PASSED test_mycode.py::TestMyClass::test_custom_func_x\n",
      "PASSED test_mycode.py::TestMyClass::test_custom_non_lin_num_list\n",
      "PASSED test_mycode.py::TestMyClass::test_hello\n",
      "PASSED test_mycode.py::TestMyClass::test_num_list\n",
      "PASSED test_tuto_01.py::test_sqrt\n",
      "SKIPPED [1] test_compare.py:14: unconditional skip\n",
      "XFAIL test_compare.py::test_greater\n",
      "XPASS test_compare.py::test_greater_equal \n",
      "FAILED test_div_by_3_6.py::test_divisible_by_6 - assert 3 == 0\n",
      "FAILED test_multiplication.py::test_multiplication_11[3-35] - assert 33 == 35\n",
      "FAILED test_tuto_01.py::testsquare - assert 49 == 40\n",
      "======== 3 failed, 11 passed, 1 skipped, 1 xfailed, 1 xpassed in 0.40s ========\n"
     ]
    },
    {
     "data": {
      "text/plain": [
       "<ExitCode.TESTS_FAILED: 1>"
      ]
     },
     "execution_count": 8,
     "metadata": {},
     "output_type": "execute_result"
    }
   ],
   "source": [
    "pytest.main([\"-v\", \"-rA\"])"
   ]
  },
  {
   "cell_type": "code",
   "execution_count": null,
   "metadata": {},
   "outputs": [],
   "source": []
  }
 ],
 "metadata": {
  "kernelspec": {
   "display_name": "Python 3",
   "language": "python",
   "name": "python3"
  },
  "language_info": {
   "codemirror_mode": {
    "name": "ipython",
    "version": 3
   },
   "file_extension": ".py",
   "mimetype": "text/x-python",
   "name": "python",
   "nbconvert_exporter": "python",
   "pygments_lexer": "ipython3",
   "version": "3.7.4"
  }
 },
 "nbformat": 4,
 "nbformat_minor": 4
}
